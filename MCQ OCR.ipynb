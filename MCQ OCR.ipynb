{
 "cells": [
  {
   "cell_type": "code",
   "execution_count": 94,
   "id": "7e3d40f0",
   "metadata": {},
   "outputs": [],
   "source": [
    "import io\n",
    "import json\n",
    "import cv2\n",
    "import numpy as np\n",
    "import requests\n",
    "\n",
    "img = cv2.imread(\"mcq_test_1.jpeg\")\n",
    "height, width, _ = img.shape"
   ]
  },
  {
   "cell_type": "code",
   "execution_count": 95,
   "id": "63d32fb6",
   "metadata": {},
   "outputs": [],
   "source": [
    "roi = img[0: height, 0: width]"
   ]
  },
  {
   "cell_type": "code",
   "execution_count": 96,
   "id": "da78ab36",
   "metadata": {},
   "outputs": [],
   "source": [
    "url_api = \"https://api.ocr.space/parse/image\"\n",
    "_, compressedimage = cv2.imencode(\".jpeg\", roi, [1, 90])\n",
    "file_bytes = io.BytesIO(compressedimage)"
   ]
  },
  {
   "cell_type": "code",
   "execution_count": 97,
   "id": "3b1b7639",
   "metadata": {},
   "outputs": [],
   "source": [
    "result = requests.post(url_api,\n",
    "              files = {\"mcq_test_1.jpeg\": file_bytes},\n",
    "              data = {\"apikey\": \"K87243076888957\",\n",
    "                      \"language\": \"eng\"})"
   ]
  },
  {
   "cell_type": "code",
   "execution_count": 98,
   "id": "50f2e938",
   "metadata": {},
   "outputs": [],
   "source": [
    "result = result.content.decode()\n",
    "result = json.loads(result)"
   ]
  },
  {
   "cell_type": "code",
   "execution_count": 99,
   "id": "aadf1473",
   "metadata": {
    "scrolled": true
   },
   "outputs": [
    {
     "data": {
      "text/plain": [
       "['The examination of everyday human social interactions on a small scale',\n",
       " 'describes:',\n",
       " 'A',\n",
       " 'B',\n",
       " 'C',\n",
       " 'D',\n",
       " 'functionalism',\n",
       " 'macrosociology',\n",
       " 'cultural anthropology',\n",
       " 'microsociology',\n",
       " '']"
      ]
     },
     "execution_count": 99,
     "metadata": {},
     "output_type": "execute_result"
    }
   ],
   "source": [
    "result['ParsedResults'][0]['ParsedText'].split('\\r\\n')"
   ]
  },
  {
   "cell_type": "code",
   "execution_count": null,
   "id": "5da4dac7",
   "metadata": {},
   "outputs": [],
   "source": []
  }
 ],
 "metadata": {
  "kernelspec": {
   "display_name": "Python 3",
   "language": "python",
   "name": "python3"
  },
  "language_info": {
   "codemirror_mode": {
    "name": "ipython",
    "version": 3
   },
   "file_extension": ".py",
   "mimetype": "text/x-python",
   "name": "python",
   "nbconvert_exporter": "python",
   "pygments_lexer": "ipython3",
   "version": "3.8.7"
  }
 },
 "nbformat": 4,
 "nbformat_minor": 5
}
